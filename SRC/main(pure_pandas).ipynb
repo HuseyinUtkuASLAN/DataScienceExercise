{
 "cells": [
  {
   "cell_type": "markdown",
   "id": "38afb2cf",
   "metadata": {},
   "source": [
    "# Example for data science\n",
    "Purpose of this exercise is download the dataset, save it to a database and answer few questions.\n",
    "<br />\n",
    "Dataset source <link>https://files.grouplens.org/datasets/movielens/ml-latest-small.zip</link>"
   ]
  },
  {
   "cell_type": "markdown",
   "id": "bfb664a5",
   "metadata": {},
   "source": [
    "### Data preparation \n",
    "1. Download dataset\n",
    "2. Unzip dataset\n",
    "3. Load the data\n",
    "4. Save it to database"
   ]
  },
  {
   "cell_type": "markdown",
   "id": "18afc2ac",
   "metadata": {},
   "source": [
    "### Question to be answered : \n",
    "1. How many movies are in data set ?\n",
    "2. What is the most common genre of movie?\n",
    "3. What are top 10 movies with highest rate ?\n",
    "4. What are 5 most often rating users ?\n",
    "5. When was done first and last rate included in data set and what was the rated movie tittle?\n",
    "6. Find all movies released in 1990"
   ]
  },
  {
   "cell_type": "markdown",
   "id": "e3263ace",
   "metadata": {},
   "source": [
    "### Downloading dataset"
   ]
  },
  {
   "cell_type": "code",
   "execution_count": 1,
   "id": "0df7371e",
   "metadata": {},
   "outputs": [
    {
     "name": "stderr",
     "output_type": "stream",
     "text": [
      "/opt/conda/lib/python3.8/site-packages/urllib3/connectionpool.py:981: InsecureRequestWarning: Unverified HTTPS request is being made to host 'files.grouplens.org'. Adding certificate verification is strongly advised. See: https://urllib3.readthedocs.io/en/latest/advanced-usage.html#ssl-warnings\n",
      "  warnings.warn(\n"
     ]
    },
    {
     "data": {
      "text/plain": [
       "978202"
      ]
     },
     "execution_count": 1,
     "metadata": {},
     "output_type": "execute_result"
    }
   ],
   "source": [
    "import os\n",
    "import requests\n",
    "\n",
    "if os.path.exists('data') == False:\n",
    "    os.mkdir('data')\n",
    "\n",
    "url = 'https://files.grouplens.org/datasets/movielens/ml-latest-small.zip'\n",
    "r = requests.get(url, allow_redirects=True, verify=False)\n",
    "open('data/ml-latest-small.zip', 'wb').write(r.content)"
   ]
  },
  {
   "cell_type": "markdown",
   "id": "70aa01bd",
   "metadata": {},
   "source": [
    "### Unzip dataset"
   ]
  },
  {
   "cell_type": "code",
   "execution_count": 2,
   "id": "de9dd04a",
   "metadata": {},
   "outputs": [],
   "source": [
    "import zipfile\n",
    "\n",
    "with zipfile.ZipFile('data/ml-latest-small.zip', 'r') as zip_ref:\n",
    "    zip_ref.extractall('data/unzipped')"
   ]
  },
  {
   "cell_type": "markdown",
   "id": "2adab283",
   "metadata": {},
   "source": [
    "### Load the data\n",
    "While loading data, we remove NAN values to have a pure dataset"
   ]
  },
  {
   "cell_type": "code",
   "execution_count": 3,
   "id": "ceb1bd92",
   "metadata": {},
   "outputs": [],
   "source": [
    "import pandas as pd\n",
    "import numpy as np\n",
    "\n",
    "links = pd.read_csv(\"data/unzipped/ml-latest-small/links.csv\").dropna()\n",
    "movies = pd.read_csv(\"data/unzipped/ml-latest-small/movies.csv\").dropna()\n",
    "ratings = pd.read_csv(\"data/unzipped/ml-latest-small/ratings.csv\").dropna()\n",
    "tags = pd.read_csv(\"data/unzipped/ml-latest-small/tags.csv\").dropna()"
   ]
  },
  {
   "cell_type": "code",
   "execution_count": 4,
   "id": "4abe37fe",
   "metadata": {},
   "outputs": [
    {
     "data": {
      "text/html": [
       "<div>\n",
       "<style scoped>\n",
       "    .dataframe tbody tr th:only-of-type {\n",
       "        vertical-align: middle;\n",
       "    }\n",
       "\n",
       "    .dataframe tbody tr th {\n",
       "        vertical-align: top;\n",
       "    }\n",
       "\n",
       "    .dataframe thead th {\n",
       "        text-align: right;\n",
       "    }\n",
       "</style>\n",
       "<table border=\"1\" class=\"dataframe\">\n",
       "  <thead>\n",
       "    <tr style=\"text-align: right;\">\n",
       "      <th></th>\n",
       "      <th>movieId</th>\n",
       "      <th>imdbId</th>\n",
       "      <th>tmdbId</th>\n",
       "    </tr>\n",
       "  </thead>\n",
       "  <tbody>\n",
       "    <tr>\n",
       "      <th>0</th>\n",
       "      <td>1</td>\n",
       "      <td>114709</td>\n",
       "      <td>862.0</td>\n",
       "    </tr>\n",
       "    <tr>\n",
       "      <th>1</th>\n",
       "      <td>2</td>\n",
       "      <td>113497</td>\n",
       "      <td>8844.0</td>\n",
       "    </tr>\n",
       "    <tr>\n",
       "      <th>2</th>\n",
       "      <td>3</td>\n",
       "      <td>113228</td>\n",
       "      <td>15602.0</td>\n",
       "    </tr>\n",
       "    <tr>\n",
       "      <th>3</th>\n",
       "      <td>4</td>\n",
       "      <td>114885</td>\n",
       "      <td>31357.0</td>\n",
       "    </tr>\n",
       "    <tr>\n",
       "      <th>4</th>\n",
       "      <td>5</td>\n",
       "      <td>113041</td>\n",
       "      <td>11862.0</td>\n",
       "    </tr>\n",
       "  </tbody>\n",
       "</table>\n",
       "</div>"
      ],
      "text/plain": [
       "   movieId  imdbId   tmdbId\n",
       "0        1  114709    862.0\n",
       "1        2  113497   8844.0\n",
       "2        3  113228  15602.0\n",
       "3        4  114885  31357.0\n",
       "4        5  113041  11862.0"
      ]
     },
     "execution_count": 4,
     "metadata": {},
     "output_type": "execute_result"
    }
   ],
   "source": [
    "links.head()"
   ]
  },
  {
   "cell_type": "code",
   "execution_count": 5,
   "id": "0ede1471",
   "metadata": {},
   "outputs": [
    {
     "data": {
      "text/html": [
       "<div>\n",
       "<style scoped>\n",
       "    .dataframe tbody tr th:only-of-type {\n",
       "        vertical-align: middle;\n",
       "    }\n",
       "\n",
       "    .dataframe tbody tr th {\n",
       "        vertical-align: top;\n",
       "    }\n",
       "\n",
       "    .dataframe thead th {\n",
       "        text-align: right;\n",
       "    }\n",
       "</style>\n",
       "<table border=\"1\" class=\"dataframe\">\n",
       "  <thead>\n",
       "    <tr style=\"text-align: right;\">\n",
       "      <th></th>\n",
       "      <th>movieId</th>\n",
       "      <th>title</th>\n",
       "      <th>genres</th>\n",
       "    </tr>\n",
       "  </thead>\n",
       "  <tbody>\n",
       "    <tr>\n",
       "      <th>0</th>\n",
       "      <td>1</td>\n",
       "      <td>Toy Story (1995)</td>\n",
       "      <td>Adventure|Animation|Children|Comedy|Fantasy</td>\n",
       "    </tr>\n",
       "    <tr>\n",
       "      <th>1</th>\n",
       "      <td>2</td>\n",
       "      <td>Jumanji (1995)</td>\n",
       "      <td>Adventure|Children|Fantasy</td>\n",
       "    </tr>\n",
       "    <tr>\n",
       "      <th>2</th>\n",
       "      <td>3</td>\n",
       "      <td>Grumpier Old Men (1995)</td>\n",
       "      <td>Comedy|Romance</td>\n",
       "    </tr>\n",
       "    <tr>\n",
       "      <th>3</th>\n",
       "      <td>4</td>\n",
       "      <td>Waiting to Exhale (1995)</td>\n",
       "      <td>Comedy|Drama|Romance</td>\n",
       "    </tr>\n",
       "    <tr>\n",
       "      <th>4</th>\n",
       "      <td>5</td>\n",
       "      <td>Father of the Bride Part II (1995)</td>\n",
       "      <td>Comedy</td>\n",
       "    </tr>\n",
       "  </tbody>\n",
       "</table>\n",
       "</div>"
      ],
      "text/plain": [
       "   movieId                               title  \\\n",
       "0        1                    Toy Story (1995)   \n",
       "1        2                      Jumanji (1995)   \n",
       "2        3             Grumpier Old Men (1995)   \n",
       "3        4            Waiting to Exhale (1995)   \n",
       "4        5  Father of the Bride Part II (1995)   \n",
       "\n",
       "                                        genres  \n",
       "0  Adventure|Animation|Children|Comedy|Fantasy  \n",
       "1                   Adventure|Children|Fantasy  \n",
       "2                               Comedy|Romance  \n",
       "3                         Comedy|Drama|Romance  \n",
       "4                                       Comedy  "
      ]
     },
     "execution_count": 5,
     "metadata": {},
     "output_type": "execute_result"
    }
   ],
   "source": [
    "movies.head()"
   ]
  },
  {
   "cell_type": "code",
   "execution_count": 6,
   "id": "d8f3f91e",
   "metadata": {},
   "outputs": [
    {
     "data": {
      "text/html": [
       "<div>\n",
       "<style scoped>\n",
       "    .dataframe tbody tr th:only-of-type {\n",
       "        vertical-align: middle;\n",
       "    }\n",
       "\n",
       "    .dataframe tbody tr th {\n",
       "        vertical-align: top;\n",
       "    }\n",
       "\n",
       "    .dataframe thead th {\n",
       "        text-align: right;\n",
       "    }\n",
       "</style>\n",
       "<table border=\"1\" class=\"dataframe\">\n",
       "  <thead>\n",
       "    <tr style=\"text-align: right;\">\n",
       "      <th></th>\n",
       "      <th>userId</th>\n",
       "      <th>movieId</th>\n",
       "      <th>rating</th>\n",
       "      <th>timestamp</th>\n",
       "    </tr>\n",
       "  </thead>\n",
       "  <tbody>\n",
       "    <tr>\n",
       "      <th>0</th>\n",
       "      <td>1</td>\n",
       "      <td>1</td>\n",
       "      <td>4.0</td>\n",
       "      <td>964982703</td>\n",
       "    </tr>\n",
       "    <tr>\n",
       "      <th>1</th>\n",
       "      <td>1</td>\n",
       "      <td>3</td>\n",
       "      <td>4.0</td>\n",
       "      <td>964981247</td>\n",
       "    </tr>\n",
       "    <tr>\n",
       "      <th>2</th>\n",
       "      <td>1</td>\n",
       "      <td>6</td>\n",
       "      <td>4.0</td>\n",
       "      <td>964982224</td>\n",
       "    </tr>\n",
       "    <tr>\n",
       "      <th>3</th>\n",
       "      <td>1</td>\n",
       "      <td>47</td>\n",
       "      <td>5.0</td>\n",
       "      <td>964983815</td>\n",
       "    </tr>\n",
       "    <tr>\n",
       "      <th>4</th>\n",
       "      <td>1</td>\n",
       "      <td>50</td>\n",
       "      <td>5.0</td>\n",
       "      <td>964982931</td>\n",
       "    </tr>\n",
       "  </tbody>\n",
       "</table>\n",
       "</div>"
      ],
      "text/plain": [
       "   userId  movieId  rating  timestamp\n",
       "0       1        1     4.0  964982703\n",
       "1       1        3     4.0  964981247\n",
       "2       1        6     4.0  964982224\n",
       "3       1       47     5.0  964983815\n",
       "4       1       50     5.0  964982931"
      ]
     },
     "execution_count": 6,
     "metadata": {},
     "output_type": "execute_result"
    }
   ],
   "source": [
    "ratings.head()"
   ]
  },
  {
   "cell_type": "code",
   "execution_count": 7,
   "id": "362bcb08",
   "metadata": {},
   "outputs": [
    {
     "data": {
      "text/html": [
       "<div>\n",
       "<style scoped>\n",
       "    .dataframe tbody tr th:only-of-type {\n",
       "        vertical-align: middle;\n",
       "    }\n",
       "\n",
       "    .dataframe tbody tr th {\n",
       "        vertical-align: top;\n",
       "    }\n",
       "\n",
       "    .dataframe thead th {\n",
       "        text-align: right;\n",
       "    }\n",
       "</style>\n",
       "<table border=\"1\" class=\"dataframe\">\n",
       "  <thead>\n",
       "    <tr style=\"text-align: right;\">\n",
       "      <th></th>\n",
       "      <th>userId</th>\n",
       "      <th>movieId</th>\n",
       "      <th>tag</th>\n",
       "      <th>timestamp</th>\n",
       "    </tr>\n",
       "  </thead>\n",
       "  <tbody>\n",
       "    <tr>\n",
       "      <th>0</th>\n",
       "      <td>2</td>\n",
       "      <td>60756</td>\n",
       "      <td>funny</td>\n",
       "      <td>1445714994</td>\n",
       "    </tr>\n",
       "    <tr>\n",
       "      <th>1</th>\n",
       "      <td>2</td>\n",
       "      <td>60756</td>\n",
       "      <td>Highly quotable</td>\n",
       "      <td>1445714996</td>\n",
       "    </tr>\n",
       "    <tr>\n",
       "      <th>2</th>\n",
       "      <td>2</td>\n",
       "      <td>60756</td>\n",
       "      <td>will ferrell</td>\n",
       "      <td>1445714992</td>\n",
       "    </tr>\n",
       "    <tr>\n",
       "      <th>3</th>\n",
       "      <td>2</td>\n",
       "      <td>89774</td>\n",
       "      <td>Boxing story</td>\n",
       "      <td>1445715207</td>\n",
       "    </tr>\n",
       "    <tr>\n",
       "      <th>4</th>\n",
       "      <td>2</td>\n",
       "      <td>89774</td>\n",
       "      <td>MMA</td>\n",
       "      <td>1445715200</td>\n",
       "    </tr>\n",
       "  </tbody>\n",
       "</table>\n",
       "</div>"
      ],
      "text/plain": [
       "   userId  movieId              tag   timestamp\n",
       "0       2    60756            funny  1445714994\n",
       "1       2    60756  Highly quotable  1445714996\n",
       "2       2    60756     will ferrell  1445714992\n",
       "3       2    89774     Boxing story  1445715207\n",
       "4       2    89774              MMA  1445715200"
      ]
     },
     "execution_count": 7,
     "metadata": {},
     "output_type": "execute_result"
    }
   ],
   "source": [
    "tags.head()"
   ]
  },
  {
   "cell_type": "markdown",
   "id": "d323f50a",
   "metadata": {},
   "source": [
    "### Save it to database"
   ]
  },
  {
   "cell_type": "code",
   "execution_count": 8,
   "id": "69ae501b",
   "metadata": {},
   "outputs": [],
   "source": [
    "from sqlalchemy import create_engine\n",
    "import pymysql\n",
    "from sqlalchemy.types import Integer, Text, String, DateTime, Float\n",
    "\n",
    "userName = \"root\"\n",
    "password = \"password\"\n",
    "ip = \"mysql\"\n",
    "port = \"3306\"\n",
    "\n",
    "engine = create_engine(f'mysql+pymysql://{userName}:{password}@{ip}:{port}')"
   ]
  },
  {
   "cell_type": "markdown",
   "id": "c59eabf4",
   "metadata": {},
   "source": [
    "\n",
    "#### Lets create database if not exists\n",
    "<br />\n",
    "<br />"
   ]
  },
  {
   "cell_type": "code",
   "execution_count": 9,
   "id": "a01beedb",
   "metadata": {},
   "outputs": [],
   "source": [
    "dbName = \"exercise\"\n",
    "engine.execute(f\"CREATE DATABASE IF NOT EXISTS {dbName};\")\n",
    "engine = create_engine(f'mysql+pymysql://{userName}:{password}@{ip}:{port}/{dbName}') # engine recreated for simplycity"
   ]
  },
  {
   "cell_type": "code",
   "execution_count": 10,
   "id": "92b3e087",
   "metadata": {},
   "outputs": [],
   "source": [
    "movies.to_sql(\n",
    "    'movies',\n",
    "    engine,\n",
    "    if_exists='replace',\n",
    "    index=False,\n",
    "    chunksize=500,\n",
    "    dtype={\n",
    "        \"movieId\": Integer,\n",
    "        \"title\": Text,\n",
    "        \"genres\": Text\n",
    "    }\n",
    ")"
   ]
  },
  {
   "cell_type": "code",
   "execution_count": 11,
   "id": "881fb594",
   "metadata": {},
   "outputs": [],
   "source": [
    "links.to_sql(\n",
    "    'links',\n",
    "    engine,\n",
    "    if_exists='replace',\n",
    "    index=False,\n",
    "    chunksize=500,\n",
    "    dtype={\n",
    "        \"movieId\": Integer,\n",
    "        \"imdbId\": Integer,\n",
    "        \"tmdbId\": Float\n",
    "    }\n",
    ")"
   ]
  },
  {
   "cell_type": "code",
   "execution_count": 12,
   "id": "aa93a927",
   "metadata": {},
   "outputs": [],
   "source": [
    "ratings.to_sql(\n",
    "    'ratings',\n",
    "    engine,\n",
    "    if_exists='replace',\n",
    "    index=False,\n",
    "    chunksize=500,\n",
    "    dtype={\n",
    "        \"userId\": Integer,\n",
    "        \"movieId\": Integer,\n",
    "        \"rating\": Float,\n",
    "        \"timestamp\": Integer\n",
    "    }\n",
    ")"
   ]
  },
  {
   "cell_type": "code",
   "execution_count": 13,
   "id": "1b633d21",
   "metadata": {},
   "outputs": [],
   "source": [
    "tags.to_sql(\n",
    "    'tags',\n",
    "    engine,\n",
    "    if_exists='replace',\n",
    "    index=False,\n",
    "    chunksize=500,\n",
    "    dtype={\n",
    "        \"userId\": Integer,\n",
    "        \"movieId\": Integer,\n",
    "        \"tag\": Text,\n",
    "        \"timestamp\": Integer\n",
    "    }\n",
    ")"
   ]
  },
  {
   "cell_type": "markdown",
   "id": "31c5c0f9",
   "metadata": {},
   "source": [
    "### Load from database\n",
    "For the sake of the exercise, we load data from database."
   ]
  },
  {
   "cell_type": "code",
   "execution_count": 14,
   "id": "a2d02cb9",
   "metadata": {},
   "outputs": [
    {
     "name": "stdout",
     "output_type": "stream",
     "text": [
      "<class 'pandas.core.frame.DataFrame'>\n",
      "RangeIndex: 9742 entries, 0 to 9741\n",
      "Data columns (total 3 columns):\n",
      " #   Column   Non-Null Count  Dtype \n",
      "---  ------   --------------  ----- \n",
      " 0   movieId  9742 non-null   int64 \n",
      " 1   title    9742 non-null   object\n",
      " 2   genres   9742 non-null   object\n",
      "dtypes: int64(1), object(2)\n",
      "memory usage: 228.5+ KB\n"
     ]
    }
   ],
   "source": [
    "movies = pd.read_sql_table(\n",
    "    'movies',\n",
    "    con=engine\n",
    ")\n",
    "movies.info()"
   ]
  },
  {
   "cell_type": "code",
   "execution_count": 15,
   "id": "47624368",
   "metadata": {},
   "outputs": [
    {
     "name": "stdout",
     "output_type": "stream",
     "text": [
      "<class 'pandas.core.frame.DataFrame'>\n",
      "RangeIndex: 9734 entries, 0 to 9733\n",
      "Data columns (total 3 columns):\n",
      " #   Column   Non-Null Count  Dtype  \n",
      "---  ------   --------------  -----  \n",
      " 0   movieId  9734 non-null   int64  \n",
      " 1   imdbId   9734 non-null   int64  \n",
      " 2   tmdbId   9734 non-null   float64\n",
      "dtypes: float64(1), int64(2)\n",
      "memory usage: 228.3 KB\n"
     ]
    }
   ],
   "source": [
    "links = pd.read_sql_table(\n",
    "    'links',\n",
    "    con=engine\n",
    ")\n",
    "links.info()"
   ]
  },
  {
   "cell_type": "code",
   "execution_count": 16,
   "id": "0ecc3820",
   "metadata": {},
   "outputs": [
    {
     "name": "stdout",
     "output_type": "stream",
     "text": [
      "<class 'pandas.core.frame.DataFrame'>\n",
      "RangeIndex: 100836 entries, 0 to 100835\n",
      "Data columns (total 4 columns):\n",
      " #   Column     Non-Null Count   Dtype  \n",
      "---  ------     --------------   -----  \n",
      " 0   userId     100836 non-null  int64  \n",
      " 1   movieId    100836 non-null  int64  \n",
      " 2   rating     100836 non-null  float64\n",
      " 3   timestamp  100836 non-null  int64  \n",
      "dtypes: float64(1), int64(3)\n",
      "memory usage: 3.1 MB\n"
     ]
    }
   ],
   "source": [
    "ratings = pd.read_sql_table(\n",
    "    'ratings',\n",
    "    con=engine\n",
    ")\n",
    "ratings.info()"
   ]
  },
  {
   "cell_type": "code",
   "execution_count": 17,
   "id": "22592153",
   "metadata": {},
   "outputs": [
    {
     "name": "stdout",
     "output_type": "stream",
     "text": [
      "<class 'pandas.core.frame.DataFrame'>\n",
      "RangeIndex: 3683 entries, 0 to 3682\n",
      "Data columns (total 4 columns):\n",
      " #   Column     Non-Null Count  Dtype \n",
      "---  ------     --------------  ----- \n",
      " 0   userId     3683 non-null   int64 \n",
      " 1   movieId    3683 non-null   int64 \n",
      " 2   tag        3683 non-null   object\n",
      " 3   timestamp  3683 non-null   int64 \n",
      "dtypes: int64(3), object(1)\n",
      "memory usage: 115.2+ KB\n"
     ]
    }
   ],
   "source": [
    "tags = pd.read_sql_table(\n",
    "    'tags',\n",
    "    con=engine\n",
    ")\n",
    "tags.info()"
   ]
  },
  {
   "cell_type": "markdown",
   "id": "96da6a87",
   "metadata": {},
   "source": [
    "## Questions and Answers"
   ]
  },
  {
   "cell_type": "markdown",
   "id": "862bc390",
   "metadata": {},
   "source": [
    "### Question 1) How many movies are in data set ?"
   ]
  },
  {
   "cell_type": "code",
   "execution_count": 18,
   "id": "d3a39f78",
   "metadata": {},
   "outputs": [
    {
     "name": "stdout",
     "output_type": "stream",
     "text": [
      "Number of distinct movie titles is 9737\n"
     ]
    }
   ],
   "source": [
    "numberOfDistinctMovieTitles = len(movies['title'].dropna().unique())\n",
    "print(f'Number of distinct movie titles is {numberOfDistinctMovieTitles}')"
   ]
  },
  {
   "cell_type": "markdown",
   "id": "115dc0e7",
   "metadata": {},
   "source": [
    "### Question 2) What is the most common genre of movie?"
   ]
  },
  {
   "cell_type": "code",
   "execution_count": 19,
   "id": "37614123",
   "metadata": {},
   "outputs": [
    {
     "data": {
      "text/plain": [
       "{'Adventure': 1263,\n",
       " 'Animation': 611,\n",
       " 'Children': 664,\n",
       " 'Comedy': 3756,\n",
       " 'Fantasy': 779,\n",
       " 'Romance': 1596,\n",
       " 'Drama': 4361,\n",
       " 'Action': 1828,\n",
       " 'Crime': 1199,\n",
       " 'Thriller': 1894,\n",
       " 'Horror': 978,\n",
       " 'Mystery': 573,\n",
       " 'Sci-Fi': 980,\n",
       " 'War': 382,\n",
       " 'Musical': 334,\n",
       " 'Documentary': 440,\n",
       " 'IMAX': 158,\n",
       " 'Western': 167,\n",
       " 'Film-Noir': 87,\n",
       " '(no genres listed)': 34}"
      ]
     },
     "execution_count": 19,
     "metadata": {},
     "output_type": "execute_result"
    }
   ],
   "source": [
    "genres = movies['genres'].str.split(pat=\"|\")\n",
    "counter = {}\n",
    "\n",
    "for genreList in genres:\n",
    "    for genre in genreList:\n",
    "        if genre not in counter:\n",
    "            counter[genre] = 1\n",
    "        else:\n",
    "            counter[genre] += 1\n",
    "counter"
   ]
  },
  {
   "cell_type": "code",
   "execution_count": 20,
   "id": "3648854f",
   "metadata": {},
   "outputs": [
    {
     "name": "stdout",
     "output_type": "stream",
     "text": [
      "Most common genre is Drama\n"
     ]
    }
   ],
   "source": [
    "import operator\n",
    "\n",
    "mostCommonGenre = max(counter.items(), key=operator.itemgetter(1))[0]\n",
    "\n",
    "print(f'Most common genre is {mostCommonGenre}')"
   ]
  },
  {
   "cell_type": "markdown",
   "id": "7da4d15e",
   "metadata": {},
   "source": [
    "### Question 3) What are top 10 movies with highest rate ?"
   ]
  },
  {
   "cell_type": "code",
   "execution_count": 21,
   "id": "2e2b2ef3",
   "metadata": {},
   "outputs": [
    {
     "data": {
      "text/plain": [
       "title\n",
       "Gena the Crocodile (1969)                    5.0\n",
       "True Stories (1986)                          5.0\n",
       "Cosmic Scrat-tastrophe (2015)                5.0\n",
       "Love and Pigeons (1985)                      5.0\n",
       "Red Sorghum (Hong gao liang) (1987)          5.0\n",
       "Thin Line Between Love and Hate, A (1996)    5.0\n",
       "Lesson Faust (1994)                          5.0\n",
       "Eva (2011)                                   5.0\n",
       "Who Killed Chea Vichea? (2010)               5.0\n",
       "Siam Sunset (1999)                           5.0\n",
       "Name: rating, dtype: float64"
      ]
     },
     "execution_count": 21,
     "metadata": {},
     "output_type": "execute_result"
    }
   ],
   "source": [
    "movies.set_index('movieId').join(ratings.set_index('movieId')).groupby('title').mean('rating').sort_values(by=['rating'], ascending=False)[:10]['rating']"
   ]
  },
  {
   "cell_type": "markdown",
   "id": "7b2fad6f",
   "metadata": {},
   "source": [
    "### Question 4) What are 5 most often rating users ?\n",
    "'Most often' is a hard question to answer but 'most is simple"
   ]
  },
  {
   "cell_type": "code",
   "execution_count": 22,
   "id": "bfa217e8",
   "metadata": {
    "scrolled": false
   },
   "outputs": [
    {
     "data": {
      "text/plain": [
       "414    2698\n",
       "599    2478\n",
       "474    2108\n",
       "448    1864\n",
       "274    1346\n",
       "610    1302\n",
       "68     1260\n",
       "380    1218\n",
       "606    1115\n",
       "288    1055\n",
       "Name: userId, dtype: int64"
      ]
     },
     "execution_count": 22,
     "metadata": {},
     "output_type": "execute_result"
    }
   ],
   "source": [
    "ratings['userId'].value_counts()[:10]"
   ]
  },
  {
   "cell_type": "markdown",
   "id": "e0db0d96",
   "metadata": {},
   "source": [
    "### Question 5) When was done first and last rate included in data set and what was the rated movie tittle?"
   ]
  },
  {
   "cell_type": "code",
   "execution_count": 23,
   "id": "35559a16",
   "metadata": {},
   "outputs": [],
   "source": [
    "first = ratings[ratings.timestamp == ratings.timestamp.min()].head(1)\n",
    "last = ratings[ratings.timestamp == ratings.timestamp.max()].head(1)"
   ]
  },
  {
   "cell_type": "code",
   "execution_count": 24,
   "id": "aef993ef",
   "metadata": {
    "scrolled": false
   },
   "outputs": [
    {
     "data": {
      "text/html": [
       "<div>\n",
       "<style scoped>\n",
       "    .dataframe tbody tr th:only-of-type {\n",
       "        vertical-align: middle;\n",
       "    }\n",
       "\n",
       "    .dataframe tbody tr th {\n",
       "        vertical-align: top;\n",
       "    }\n",
       "\n",
       "    .dataframe thead th {\n",
       "        text-align: right;\n",
       "    }\n",
       "</style>\n",
       "<table border=\"1\" class=\"dataframe\">\n",
       "  <thead>\n",
       "    <tr style=\"text-align: right;\">\n",
       "      <th></th>\n",
       "      <th>userId</th>\n",
       "      <th>movieId</th>\n",
       "      <th>rating</th>\n",
       "      <th>timestamp</th>\n",
       "    </tr>\n",
       "  </thead>\n",
       "  <tbody>\n",
       "    <tr>\n",
       "      <th>66662</th>\n",
       "      <td>429</td>\n",
       "      <td>22</td>\n",
       "      <td>4.0</td>\n",
       "      <td>828124615</td>\n",
       "    </tr>\n",
       "  </tbody>\n",
       "</table>\n",
       "</div>"
      ],
      "text/plain": [
       "       userId  movieId  rating  timestamp\n",
       "66662     429       22     4.0  828124615"
      ]
     },
     "execution_count": 24,
     "metadata": {},
     "output_type": "execute_result"
    }
   ],
   "source": [
    "first"
   ]
  },
  {
   "cell_type": "code",
   "execution_count": 25,
   "id": "bd688178",
   "metadata": {},
   "outputs": [
    {
     "data": {
      "text/html": [
       "<div>\n",
       "<style scoped>\n",
       "    .dataframe tbody tr th:only-of-type {\n",
       "        vertical-align: middle;\n",
       "    }\n",
       "\n",
       "    .dataframe tbody tr th {\n",
       "        vertical-align: top;\n",
       "    }\n",
       "\n",
       "    .dataframe thead th {\n",
       "        text-align: right;\n",
       "    }\n",
       "</style>\n",
       "<table border=\"1\" class=\"dataframe\">\n",
       "  <thead>\n",
       "    <tr style=\"text-align: right;\">\n",
       "      <th></th>\n",
       "      <th>userId</th>\n",
       "      <th>movieId</th>\n",
       "      <th>rating</th>\n",
       "      <th>timestamp</th>\n",
       "    </tr>\n",
       "  </thead>\n",
       "  <tbody>\n",
       "    <tr>\n",
       "      <th>81092</th>\n",
       "      <td>514</td>\n",
       "      <td>162</td>\n",
       "      <td>4.0</td>\n",
       "      <td>1537799250</td>\n",
       "    </tr>\n",
       "  </tbody>\n",
       "</table>\n",
       "</div>"
      ],
      "text/plain": [
       "       userId  movieId  rating   timestamp\n",
       "81092     514      162     4.0  1537799250"
      ]
     },
     "execution_count": 25,
     "metadata": {},
     "output_type": "execute_result"
    }
   ],
   "source": [
    "last"
   ]
  },
  {
   "cell_type": "code",
   "execution_count": 26,
   "id": "d0b89dc5",
   "metadata": {},
   "outputs": [
    {
     "data": {
      "text/html": [
       "<div>\n",
       "<style scoped>\n",
       "    .dataframe tbody tr th:only-of-type {\n",
       "        vertical-align: middle;\n",
       "    }\n",
       "\n",
       "    .dataframe tbody tr th {\n",
       "        vertical-align: top;\n",
       "    }\n",
       "\n",
       "    .dataframe thead th {\n",
       "        text-align: right;\n",
       "    }\n",
       "</style>\n",
       "<table border=\"1\" class=\"dataframe\">\n",
       "  <thead>\n",
       "    <tr style=\"text-align: right;\">\n",
       "      <th></th>\n",
       "      <th>movieId</th>\n",
       "      <th>title</th>\n",
       "      <th>genres</th>\n",
       "    </tr>\n",
       "  </thead>\n",
       "  <tbody>\n",
       "    <tr>\n",
       "      <th>21</th>\n",
       "      <td>22</td>\n",
       "      <td>Copycat (1995)</td>\n",
       "      <td>Crime|Drama|Horror|Mystery|Thriller</td>\n",
       "    </tr>\n",
       "  </tbody>\n",
       "</table>\n",
       "</div>"
      ],
      "text/plain": [
       "    movieId           title                               genres\n",
       "21       22  Copycat (1995)  Crime|Drama|Horror|Mystery|Thriller"
      ]
     },
     "execution_count": 26,
     "metadata": {},
     "output_type": "execute_result"
    }
   ],
   "source": [
    "firstMovieRated = movies[movies.movieId == first.movieId.values[0]]\n",
    "firstMovieRated"
   ]
  },
  {
   "cell_type": "code",
   "execution_count": 27,
   "id": "0b992957",
   "metadata": {},
   "outputs": [
    {
     "data": {
      "text/html": [
       "<div>\n",
       "<style scoped>\n",
       "    .dataframe tbody tr th:only-of-type {\n",
       "        vertical-align: middle;\n",
       "    }\n",
       "\n",
       "    .dataframe tbody tr th {\n",
       "        vertical-align: top;\n",
       "    }\n",
       "\n",
       "    .dataframe thead th {\n",
       "        text-align: right;\n",
       "    }\n",
       "</style>\n",
       "<table border=\"1\" class=\"dataframe\">\n",
       "  <thead>\n",
       "    <tr style=\"text-align: right;\">\n",
       "      <th></th>\n",
       "      <th>movieId</th>\n",
       "      <th>title</th>\n",
       "      <th>genres</th>\n",
       "    </tr>\n",
       "  </thead>\n",
       "  <tbody>\n",
       "    <tr>\n",
       "      <th>135</th>\n",
       "      <td>162</td>\n",
       "      <td>Crumb (1994)</td>\n",
       "      <td>Documentary</td>\n",
       "    </tr>\n",
       "  </tbody>\n",
       "</table>\n",
       "</div>"
      ],
      "text/plain": [
       "     movieId         title       genres\n",
       "135      162  Crumb (1994)  Documentary"
      ]
     },
     "execution_count": 27,
     "metadata": {},
     "output_type": "execute_result"
    }
   ],
   "source": [
    "lastMovieRated = movies[movies.movieId == last.movieId.values[0]]\n",
    "lastMovieRated"
   ]
  },
  {
   "cell_type": "code",
   "execution_count": 28,
   "id": "cb826209",
   "metadata": {},
   "outputs": [
    {
     "name": "stdout",
     "output_type": "stream",
     "text": [
      "First movie rated Copycat (1995) 828124615\n",
      "Last movie rated Crumb (1994) 1537799250\n"
     ]
    }
   ],
   "source": [
    "print(f'First movie rated {firstMovieRated[\"title\"].values[0]} {first.timestamp.values[0]}')\n",
    "print(f'Last movie rated {lastMovieRated[\"title\"].values[0]} {last.timestamp.values[0]}')"
   ]
  },
  {
   "cell_type": "markdown",
   "id": "88f505a8",
   "metadata": {},
   "source": [
    "### Question 6) Find all movies released in 1990\n",
    "Only place that we can receive movie release dates is in movies table's title column"
   ]
  },
  {
   "cell_type": "code",
   "execution_count": 29,
   "id": "4d91e2eb",
   "metadata": {
    "scrolled": true
   },
   "outputs": [
    {
     "data": {
      "text/plain": [
       "['Home Alone (1990)',\n",
       " 'Ghost (1990)',\n",
       " 'Dances with Wolves (1990)',\n",
       " 'Pretty Woman (1990)',\n",
       " 'Days of Thunder (1990)',\n",
       " 'Grifters, The (1990)',\n",
       " 'Tie Me Up! Tie Me Down! (¡Átame!) (1990)',\n",
       " 'Paris Is Burning (1990)',\n",
       " 'Goodfellas (1990)',\n",
       " 'Trust (1990)',\n",
       " 'Rosencrantz and Guildenstern Are Dead (1990)',\n",
       " \"Miller's Crossing (1990)\",\n",
       " 'Femme Nikita, La (Nikita) (1990)',\n",
       " 'Pump Up the Volume (1990)',\n",
       " 'Cyrano de Bergerac (1990)',\n",
       " 'Amityville Curse, The (1990)',\n",
       " 'Die Hard 2 (1990)',\n",
       " 'Young Guns II (1990)',\n",
       " 'Marked for Death (1990)',\n",
       " 'Hunt for Red October, The (1990)',\n",
       " 'King of New York (1990)',\n",
       " 'Metropolitan (1990)',\n",
       " \"Child's Play 2 (1990)\",\n",
       " 'Exorcist III, The (1990)',\n",
       " 'Gremlins 2: The New Batch (1990)',\n",
       " 'Back to the Future Part III (1990)',\n",
       " 'Godfather: Part III, The (1990)',\n",
       " 'Rescuers Down Under, The (1990)',\n",
       " 'NeverEnding Story II: The Next Chapter, The (1990)',\n",
       " 'My Blue Heaven (1990)',\n",
       " 'Sheltering Sky, The (1990)',\n",
       " 'Edward Scissorhands (1990)',\n",
       " 'Tales from the Darkside: The Movie (1990)',\n",
       " 'Heart Condition (1990)',\n",
       " 'Rocky V (1990)',\n",
       " 'Dick Tracy (1990)',\n",
       " 'Arachnophobia (1990)',\n",
       " 'Problem Child (1990)',\n",
       " 'Total Recall (1990)',\n",
       " 'Guardian, The (1990)',\n",
       " 'RoboCop 2 (1990)',\n",
       " 'Bride of Re-Animator (1990)',\n",
       " 'Repossessed (1990)',\n",
       " 'Stanley & Iris (1990)',\n",
       " 'Awakenings (1990)',\n",
       " 'Come See the Paradise (1990)',\n",
       " 'Bonfire of the Vanities (1990)',\n",
       " 'Two Jakes, The (1990)',\n",
       " 'Pacific Heights (1990)',\n",
       " \"Mo' Better Blues (1990)\",\n",
       " 'Teenage Mutant Ninja Turtles (1990)',\n",
       " \"Jacob's Ladder (1990)\",\n",
       " 'Misery (1990)',\n",
       " 'All the Vermeers in New York (1990)',\n",
       " 'Flatliners (1990)',\n",
       " 'Predator 2 (1990)',\n",
       " 'Bird on a Wire (1990)',\n",
       " 'Long Walk Home, The (1990)',\n",
       " 'Hamlet (1990)',\n",
       " 'Hot Spot, The (1990)',\n",
       " 'House Party (1990)',\n",
       " 'Air America (1990)',\n",
       " 'Slumber Party Massacre III (1990)',\n",
       " 'Sorority House Massacre II (1990)',\n",
       " 'Avalon (1990)',\n",
       " 'Mermaids (1990)',\n",
       " 'Navy Seals (1990)',\n",
       " 'Reversal of Fortune (1990)',\n",
       " 'Alice (1990)',\n",
       " 'Lord of the Flies (1990)',\n",
       " 'Another 48 Hrs. (1990)',\n",
       " 'Russia House, The (1990)',\n",
       " 'Joe Versus the Volcano (1990)',\n",
       " 'Taking Care of Business (1990)',\n",
       " 'Three Men and a Little Lady (1990)',\n",
       " 'Cadillac Man (1990)',\n",
       " 'Wild Orchid (1990)',\n",
       " 'Mountains of the Moon (1990)',\n",
       " 'Men at Work (1990)',\n",
       " \"Betsy's Wedding (1990)\",\n",
       " 'Ernest Goes to Jail (1990)',\n",
       " 'Spaced Invaders (1990)',\n",
       " 'Flashback (1990)',\n",
       " \"My Father's Glory (La gloire de mon père) (1990)\",\n",
       " \"My Mother's Castle (Château de ma mère, Le) (1990)\",\n",
       " 'Blue Steel (1990)',\n",
       " 'Miami Blues (1990)',\n",
       " 'Europa Europa (Hitlerjunge Salomon) (1990)',\n",
       " 'Green Card (1990)',\n",
       " \"Akira Kurosawa's Dreams (Dreams) (1990)\",\n",
       " 'Sibling Rivalry (1990)',\n",
       " 'Loose Cannons (1990)',\n",
       " 'I Love You to Death (1990)',\n",
       " 'Tremors (1990)',\n",
       " 'Angel at My Table, An (1990)',\n",
       " \"Handmaid's Tale, The (1990)\",\n",
       " 'Rookie, The (1990)',\n",
       " 'White Hunter, Black Heart (1990)',\n",
       " 'Darkman (1990)',\n",
       " 'Freshman, The (1990)',\n",
       " 'Kindergarten Cop (1990)',\n",
       " 'Mr. Destiny (1990)',\n",
       " 'Presumed Innocent (1990)',\n",
       " 'Quick Change (1990)',\n",
       " 'Revenge (1990)',\n",
       " 'Wild at Heart (1990)',\n",
       " 'Witches, The (1990)',\n",
       " 'Madhouse (1990)',\n",
       " 'Adventures of Ford Fairlane, The (1990)',\n",
       " 'Henry & June (1990)',\n",
       " \"Look Who's Talking Too (1990)\",\n",
       " 'Twister (1990)',\n",
       " 'Nightbreed (1990)',\n",
       " 'Robot Jox (1990)',\n",
       " 'Frankenstein Unbound (1990)',\n",
       " 'Delta Force 2 (Delta Force 2: The Colombian Connection) (1990)',\n",
       " 'Night of the Living Dead (1990)',\n",
       " \"Hairdresser's Husband, The (Le mari de la coiffeuse) (1990)\",\n",
       " 'Book of Love (1990)',\n",
       " 'Memphis Belle (1990)',\n",
       " 'Almost an Angel (1990)',\n",
       " 'Cry-Baby (1990)',\n",
       " 'Bullet in the Head (1990)',\n",
       " 'Ghost Dad (1990)',\n",
       " 'It (1990)',\n",
       " 'Ju Dou (1990)',\n",
       " 'Krays, The (1990)',\n",
       " 'Lionheart (1990)',\n",
       " 'Nuns on the Run (1990)',\n",
       " 'State of Grace (1990)',\n",
       " 'Days of Being Wild (A Fei jingjyuhn) (1990)',\n",
       " 'Begotten (1990)',\n",
       " 'Quigley Down Under (1990)',\n",
       " 'Captain America (1990)',\n",
       " 'Hardware (1990)',\n",
       " 'Match Factory Girl, The (Tulitikkutehtaan tyttö) (1990)',\n",
       " 'Heaven and Earth (Ten to Chi to) (1990)',\n",
       " 'Troll 2 (1990)',\n",
       " 'Civil War, The (1990)',\n",
       " \"Mickey's The Prince and the Pauper (1990)\",\n",
       " \"Dragon Ball Z the Movie: The World's Strongest (a.k.a. Dragon Ball Z: The Strongest Guy in The World) (Doragon bôru Z: Kono yo de ichiban tsuyoi yatsu) (1990)\",\n",
       " 'Dragon Ball Z the Movie: The Tree of Might (Doragon bôru Z 3: Chikyû marugoto chô kessen) (1990)',\n",
       " 'Dragon Ball Z: Bardock - The Father of Goku (Doragon bôru Z: Tatta hitori no saishuu kessen - Furiiza ni itonda Z senshi Kakarotto no chichi) (1990)',\n",
       " 'I Bought a Vampire Motorcycle (1990)',\n",
       " 'Maniac Cop 2 (1990)',\n",
       " 'Jetsons: The Movie (1990)',\n",
       " 'The Forbidden Dance (1990)']"
      ]
     },
     "execution_count": 29,
     "metadata": {},
     "output_type": "execute_result"
    }
   ],
   "source": [
    "moviesFrom1990 = []\n",
    "for title in movies[\"title\"].values:\n",
    "    year = title[-5:-1]\n",
    "    if year == '1990':\n",
    "        moviesFrom1990.append(title)\n",
    "moviesFrom1990"
   ]
  }
 ],
 "metadata": {
  "kernelspec": {
   "display_name": "Python 3",
   "language": "python",
   "name": "python3"
  },
  "language_info": {
   "codemirror_mode": {
    "name": "ipython",
    "version": 3
   },
   "file_extension": ".py",
   "mimetype": "text/x-python",
   "name": "python",
   "nbconvert_exporter": "python",
   "pygments_lexer": "ipython3",
   "version": "3.8.5"
  }
 },
 "nbformat": 4,
 "nbformat_minor": 5
}
