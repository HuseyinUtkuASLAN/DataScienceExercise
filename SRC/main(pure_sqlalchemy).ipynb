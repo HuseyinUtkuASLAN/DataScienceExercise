{
 "cells": [
  {
   "cell_type": "markdown",
   "id": "38afb2cf",
   "metadata": {},
   "source": [
    "# Example for data science\n",
    "Purpose of this exercise is download the dataset, save it to a database and answer few questions.\n",
    "<br />\n",
    "Dataset source <link>https://files.grouplens.org/datasets/movielens/ml-latest-small.zip</link>"
   ]
  },
  {
   "cell_type": "markdown",
   "id": "bfb664a5",
   "metadata": {},
   "source": [
    "### Data preparation \n",
    "1. Download dataset\n",
    "2. Unzip dataset\n",
    "3. Load the data\n",
    "4. Save it to database"
   ]
  },
  {
   "cell_type": "markdown",
   "id": "18afc2ac",
   "metadata": {},
   "source": [
    "### Question to be answered : \n",
    "1. How many movies are in data set ?\n",
    "2. What is the most common genre of movie?\n",
    "3. What are top 10 movies with highest rate ?\n",
    "4. What are 5 most often rating users ?\n",
    "5. When was done first and last rate included in data set and what was the rated movie tittle?\n",
    "6. Find all movies released in 1990"
   ]
  },
  {
   "cell_type": "markdown",
   "id": "e3263ace",
   "metadata": {},
   "source": [
    "### Downloading dataset"
   ]
  },
  {
   "cell_type": "code",
   "execution_count": 1,
   "id": "0df7371e",
   "metadata": {},
   "outputs": [
    {
     "name": "stderr",
     "output_type": "stream",
     "text": [
      "/opt/conda/lib/python3.8/site-packages/urllib3/connectionpool.py:981: InsecureRequestWarning: Unverified HTTPS request is being made to host 'files.grouplens.org'. Adding certificate verification is strongly advised. See: https://urllib3.readthedocs.io/en/latest/advanced-usage.html#ssl-warnings\n",
      "  warnings.warn(\n"
     ]
    },
    {
     "data": {
      "text/plain": [
       "978202"
      ]
     },
     "execution_count": 1,
     "metadata": {},
     "output_type": "execute_result"
    }
   ],
   "source": [
    "import os\n",
    "import requests\n",
    "\n",
    "if os.path.exists('data') == False:\n",
    "    os.mkdir('data')\n",
    "\n",
    "url = 'https://files.grouplens.org/datasets/movielens/ml-latest-small.zip'\n",
    "r = requests.get(url, allow_redirects=True, verify=False)\n",
    "open('data/ml-latest-small.zip', 'wb').write(r.content)"
   ]
  },
  {
   "cell_type": "markdown",
   "id": "70aa01bd",
   "metadata": {},
   "source": [
    "### Unzip dataset"
   ]
  },
  {
   "cell_type": "code",
   "execution_count": 2,
   "id": "de9dd04a",
   "metadata": {},
   "outputs": [],
   "source": [
    "import zipfile\n",
    "\n",
    "with zipfile.ZipFile('data/ml-latest-small.zip', 'r') as zip_ref:\n",
    "    zip_ref.extractall('data/unzipped')"
   ]
  },
  {
   "cell_type": "markdown",
   "id": "2adab283",
   "metadata": {},
   "source": [
    "### Load the data\n",
    "While loading data, we remove NAN values to have a pure dataset"
   ]
  },
  {
   "cell_type": "code",
   "execution_count": 3,
   "id": "ceb1bd92",
   "metadata": {},
   "outputs": [],
   "source": [
    "from numpy import genfromtxt\n",
    "import numpy as np\n",
    "import csv\n",
    "\n",
    "def Load_Data(file_name):\n",
    "    with open(file_name, newline='') as f:\n",
    "        print(f)\n",
    "        reader = csv.reader(f)\n",
    "        return list(reader)\n"
   ]
  },
  {
   "cell_type": "code",
   "execution_count": 4,
   "id": "457be890",
   "metadata": {},
   "outputs": [],
   "source": [
    "def HasEmptyCell(row):\n",
    "    for elem in row:\n",
    "        if(elem == None or elem.strip() == ''):\n",
    "            return True\n",
    "    return False"
   ]
  },
  {
   "cell_type": "markdown",
   "id": "d323f50a",
   "metadata": {},
   "source": [
    "### Save it to database"
   ]
  },
  {
   "cell_type": "code",
   "execution_count": 5,
   "id": "b2295c35",
   "metadata": {},
   "outputs": [],
   "source": [
    "import sqlalchemy\n",
    "from sqlalchemy import create_engine\n",
    "from sqlalchemy import Column, Integer, Float, Date, Text\n",
    "from sqlalchemy.ext.declarative import declarative_base\n",
    "from sqlalchemy import create_engine\n",
    "from sqlalchemy.orm import sessionmaker\n",
    "import pymysql"
   ]
  },
  {
   "cell_type": "code",
   "execution_count": 6,
   "id": "bc984ccd",
   "metadata": {},
   "outputs": [],
   "source": [
    "Base = declarative_base()"
   ]
  },
  {
   "cell_type": "markdown",
   "id": "2913eb33",
   "metadata": {},
   "source": [
    "#### Data models"
   ]
  },
  {
   "cell_type": "code",
   "execution_count": 7,
   "id": "f7b5daf0",
   "metadata": {},
   "outputs": [],
   "source": [
    "class Movies(Base):\n",
    "    __tablename__ = \"movies\"\n",
    "    __table_args__ = {'sqlite_autoincrement': True}\n",
    "    \n",
    "    id = Column(Integer, primary_key=True, nullable=False)\n",
    "    movieId = Column(Integer)\n",
    "    title = Column(Text)\n",
    "    genres = Column(Text)"
   ]
  },
  {
   "cell_type": "code",
   "execution_count": 8,
   "id": "5cdf79c7",
   "metadata": {},
   "outputs": [],
   "source": [
    "class Links(Base):\n",
    "    __tablename__ = \"links\"\n",
    "    __table_args__ = {'sqlite_autoincrement': True}\n",
    "    \n",
    "    id = Column(Integer, primary_key=True, nullable=False)\n",
    "    movieId = Column(Integer)\n",
    "    imdbId = Column(Integer)\n",
    "    tmdbId = Column(Float)"
   ]
  },
  {
   "cell_type": "code",
   "execution_count": 9,
   "id": "a6235ae3",
   "metadata": {},
   "outputs": [],
   "source": [
    "class Ratings(Base):\n",
    "    __tablename__ = \"ratings\"\n",
    "    __table_args__ = {'sqlite_autoincrement': True}\n",
    "    \n",
    "    id = Column(Integer, primary_key=True, nullable=False)\n",
    "    userId = Column(Integer)\n",
    "    movieId = Column(Integer)\n",
    "    rating = Column(Float)\n",
    "    timestamp = Column(Integer)"
   ]
  },
  {
   "cell_type": "code",
   "execution_count": 10,
   "id": "b1273590",
   "metadata": {},
   "outputs": [],
   "source": [
    "class Tags(Base):\n",
    "    __tablename__ = \"tags\"\n",
    "    __table_args__ = {'sqlite_autoincrement': True}\n",
    "    \n",
    "    id = Column(Integer, primary_key=True, nullable=False)\n",
    "    userId = Column(Integer)\n",
    "    movieId = Column(Integer)\n",
    "    tag = Column(Text)\n",
    "    timestamp = Column(Integer)"
   ]
  },
  {
   "cell_type": "markdown",
   "id": "c59eabf4",
   "metadata": {},
   "source": [
    "#### Lets create database if not exists"
   ]
  },
  {
   "cell_type": "code",
   "execution_count": 11,
   "id": "e718b275",
   "metadata": {},
   "outputs": [],
   "source": [
    "userName = \"root\"\n",
    "password = \"password\"\n",
    "ip = \"mysql\"\n",
    "port = \"3306\"\n",
    "\n",
    "engine = create_engine(f'mysql+pymysql://{userName}:{password}@{ip}:{port}')"
   ]
  },
  {
   "cell_type": "code",
   "execution_count": 12,
   "id": "e88fb866",
   "metadata": {},
   "outputs": [],
   "source": [
    "dbName = \"exercise\"\n",
    "engine.execute(f\"CREATE DATABASE IF NOT EXISTS {dbName};\")\n",
    "engine = create_engine(f'mysql+pymysql://{userName}:{password}@{ip}:{port}/{dbName}') # engine recreated for simplycity"
   ]
  },
  {
   "cell_type": "markdown",
   "id": "cec0bbb8",
   "metadata": {},
   "source": [
    "#### Initialize the models and create a session"
   ]
  },
  {
   "cell_type": "code",
   "execution_count": 13,
   "id": "ece1bf86",
   "metadata": {},
   "outputs": [],
   "source": [
    "Base.metadata.create_all(engine)\n",
    "\n",
    "session = sessionmaker()\n",
    "session.configure(bind=engine)\n",
    "s = session()"
   ]
  },
  {
   "cell_type": "markdown",
   "id": "05afb5ed",
   "metadata": {},
   "source": [
    "#### Clean tables for the getting same data for each fresh run"
   ]
  },
  {
   "cell_type": "code",
   "execution_count": 14,
   "id": "a4864757",
   "metadata": {},
   "outputs": [],
   "source": [
    "s.query(Movies).delete()\n",
    "s.query(Links).delete()\n",
    "s.query(Ratings).delete()\n",
    "s.query(Tags).delete()\n",
    "s.commit()"
   ]
  },
  {
   "cell_type": "markdown",
   "id": "3b78d297",
   "metadata": {},
   "source": [
    "#### NOTE: We do not include rows with empty values to have cleaner results"
   ]
  },
  {
   "cell_type": "code",
   "execution_count": 15,
   "id": "ad125b4c",
   "metadata": {},
   "outputs": [
    {
     "name": "stdout",
     "output_type": "stream",
     "text": [
      "<_io.TextIOWrapper name='data/unzipped/ml-latest-small/movies.csv' mode='r' encoding='UTF-8'>\n"
     ]
    }
   ],
   "source": [
    "for m in Load_Data('data/unzipped/ml-latest-small/movies.csv')[1:] :\n",
    "    if (HasEmptyCell(m) == False):\n",
    "        movie = Movies(**{\n",
    "            'movieId' : m[0],\n",
    "            'title' : m[1],\n",
    "            'genres' : m[2],\n",
    "        })\n",
    "        s.add(movie)\n",
    "s.commit()"
   ]
  },
  {
   "cell_type": "code",
   "execution_count": 16,
   "id": "5d0b8b95",
   "metadata": {},
   "outputs": [
    {
     "name": "stdout",
     "output_type": "stream",
     "text": [
      "<_io.TextIOWrapper name='data/unzipped/ml-latest-small/links.csv' mode='r' encoding='UTF-8'>\n"
     ]
    }
   ],
   "source": [
    "for m in Load_Data('data/unzipped/ml-latest-small/links.csv')[1:] :\n",
    "    if (HasEmptyCell(m) == False):\n",
    "        link = Links(**{\n",
    "            'movieId' : m[0],\n",
    "            'imdbId' : m[1],\n",
    "            'tmdbId' : m[2],\n",
    "        })\n",
    "        s.add(link)\n",
    "s.commit()"
   ]
  },
  {
   "cell_type": "code",
   "execution_count": 17,
   "id": "750bafe4",
   "metadata": {},
   "outputs": [
    {
     "name": "stdout",
     "output_type": "stream",
     "text": [
      "<_io.TextIOWrapper name='data/unzipped/ml-latest-small/ratings.csv' mode='r' encoding='UTF-8'>\n"
     ]
    }
   ],
   "source": [
    "for m in Load_Data('data/unzipped/ml-latest-small/ratings.csv')[1:] :\n",
    "    if (HasEmptyCell(m) == False):\n",
    "        rating = Ratings(**{\n",
    "            'userId' : m[0],\n",
    "            'movieId' : m[1],\n",
    "            'rating' : m[2],\n",
    "            'timestamp' : m[3],\n",
    "        })\n",
    "        s.add(rating)\n",
    "s.commit()"
   ]
  },
  {
   "cell_type": "code",
   "execution_count": 18,
   "id": "e22bc4b2",
   "metadata": {},
   "outputs": [
    {
     "name": "stdout",
     "output_type": "stream",
     "text": [
      "<_io.TextIOWrapper name='data/unzipped/ml-latest-small/tags.csv' mode='r' encoding='UTF-8'>\n"
     ]
    }
   ],
   "source": [
    "for m in Load_Data('data/unzipped/ml-latest-small/tags.csv')[1:] :\n",
    "    if (HasEmptyCell(m) == False):\n",
    "        tag = Tags(**{\n",
    "            'userId' : m[0],\n",
    "            'movieId' : m[1],\n",
    "            'tag' : m[2],\n",
    "            'timestamp' : m[3],\n",
    "        })\n",
    "        s.add(tag)\n",
    "s.commit()"
   ]
  },
  {
   "cell_type": "markdown",
   "id": "96da6a87",
   "metadata": {},
   "source": [
    "## Questions and Answers"
   ]
  },
  {
   "cell_type": "markdown",
   "id": "862bc390",
   "metadata": {},
   "source": [
    "### Question 1) How many movies are in data set ?"
   ]
  },
  {
   "cell_type": "code",
   "execution_count": 19,
   "id": "d3a39f78",
   "metadata": {},
   "outputs": [
    {
     "name": "stdout",
     "output_type": "stream",
     "text": [
      "Number of distinct movie titles is 9737\n"
     ]
    }
   ],
   "source": [
    "sql_query = sqlalchemy.text(\"SELECT count(distinct( movies.title)) FROM exercise.movies as movies;\")\n",
    "result = engine.execute(sql_query)\n",
    "numberOfDistinctMovieTitles = result.fetchone()[0]\n",
    "print(f'Number of distinct movie titles is {numberOfDistinctMovieTitles}')"
   ]
  },
  {
   "cell_type": "markdown",
   "id": "115dc0e7",
   "metadata": {},
   "source": [
    "### Question 2) What is the most common genre of movie?"
   ]
  },
  {
   "cell_type": "code",
   "execution_count": 20,
   "id": "f5c0bf51",
   "metadata": {},
   "outputs": [
    {
     "data": {
      "text/plain": [
       "[('Adventure|Animation|Children|Comedy|Fantasy',),\n",
       " ('Adventure|Children|Fantasy',),\n",
       " ('Comedy|Romance',),\n",
       " ('Comedy|Drama|Romance',),\n",
       " ('Comedy',),\n",
       " ('Action|Crime|Thriller',),\n",
       " ('Comedy|Romance',),\n",
       " ('Adventure|Children',),\n",
       " ('Action',),\n",
       " ('Action|Adventure|Thriller',)]"
      ]
     },
     "execution_count": 20,
     "metadata": {},
     "output_type": "execute_result"
    }
   ],
   "source": [
    "sql_query = sqlalchemy.text(\"SELECT movies.genres FROM exercise.movies as movies;\")\n",
    "result = engine.execute(sql_query)\n",
    "result_as_list = result.fetchall()\n",
    "result_as_list[:10]"
   ]
  },
  {
   "cell_type": "markdown",
   "id": "f01d997b",
   "metadata": {},
   "source": [
    "<br />\n",
    "MySql does not support a straight forward function to split each string into different raws. So we take all the genres in the table and split them in memory using python's \"split\" function.\n",
    "<br />"
   ]
  },
  {
   "cell_type": "code",
   "execution_count": 21,
   "id": "a93027d3",
   "metadata": {},
   "outputs": [
    {
     "data": {
      "text/plain": [
       "{'Adventure': 1263,\n",
       " 'Animation': 611,\n",
       " 'Children': 664,\n",
       " 'Comedy': 3756,\n",
       " 'Fantasy': 779,\n",
       " 'Romance': 1596,\n",
       " 'Drama': 4361,\n",
       " 'Action': 1828,\n",
       " 'Crime': 1199,\n",
       " 'Thriller': 1894,\n",
       " 'Horror': 978,\n",
       " 'Mystery': 573,\n",
       " 'Sci-Fi': 980,\n",
       " 'War': 382,\n",
       " 'Musical': 334,\n",
       " 'Documentary': 440,\n",
       " 'IMAX': 158,\n",
       " 'Western': 167,\n",
       " 'Film-Noir': 87,\n",
       " '(no genres listed)': 34}"
      ]
     },
     "execution_count": 21,
     "metadata": {},
     "output_type": "execute_result"
    }
   ],
   "source": [
    "counter = {}\n",
    "for genreRaw in result_as_list:\n",
    "    for g in genreRaw[0].split(\"|\"):\n",
    "        if g not in counter:\n",
    "            counter[g] = 1\n",
    "        else:\n",
    "            counter[g] += 1\n",
    "counter"
   ]
  },
  {
   "cell_type": "code",
   "execution_count": 22,
   "id": "3648854f",
   "metadata": {},
   "outputs": [
    {
     "name": "stdout",
     "output_type": "stream",
     "text": [
      "Most common genre is Drama\n"
     ]
    }
   ],
   "source": [
    "import operator\n",
    "\n",
    "mostCommonGenre = max(counter.items(), key=operator.itemgetter(1))[0]\n",
    "\n",
    "print(f'Most common genre is {mostCommonGenre}')"
   ]
  },
  {
   "cell_type": "markdown",
   "id": "7da4d15e",
   "metadata": {},
   "source": [
    "### Question 3) What are top 10 movies with highest rate ?"
   ]
  },
  {
   "cell_type": "code",
   "execution_count": 23,
   "id": "fb3aa5c5",
   "metadata": {},
   "outputs": [
    {
     "name": "stdout",
     "output_type": "stream",
     "text": [
      "Tenchi Muyô! In Love (1996)\n",
      "All Yours (2016)\n",
      "Colourful (Karafuru) (2010)\n",
      "Wonder Woman (2009)\n",
      "Branded to Kill (Koroshi no rakuin) (1967)\n",
      "World of Glory (1991)\n",
      "A Detective Story (2003)\n",
      "Ice Age: The Great Egg-Scapade (2016)\n",
      "Winter in Prostokvashino (1984)\n",
      "Vacations in Prostokvashino (1980)\n"
     ]
    }
   ],
   "source": [
    "sql_query = sqlalchemy.text(\"SELECT movies.title \" + \n",
    "                            \"FROM exercise.movies as movies \" +\n",
    "                            \"join exercise.ratings as ratings On movies.movieId = ratings.movieId \" + \n",
    "                            \"Group by movies.title \" + \n",
    "                            \"ORDER BY AVG(ratings.rating) desc LIMIT 10;\")\n",
    "result = engine.execute(sql_query)\n",
    "result_as_list = result.fetchall()\n",
    "for r in result_as_list:\n",
    "    print(r[0])"
   ]
  },
  {
   "cell_type": "markdown",
   "id": "7b2fad6f",
   "metadata": {},
   "source": [
    "### Question 4) What are 5 most often rating users ?\n",
    "'Most often' is a hard question to answer but \"most\" is simple."
   ]
  },
  {
   "cell_type": "code",
   "execution_count": 24,
   "id": "423ab447",
   "metadata": {},
   "outputs": [
    {
     "name": "stdout",
     "output_type": "stream",
     "text": [
      "(414, 2698)\n",
      "(599, 2478)\n",
      "(474, 2108)\n",
      "(448, 1864)\n",
      "(274, 1346)\n"
     ]
    }
   ],
   "source": [
    "sql_query = sqlalchemy.text(\"SELECT userId, count(*) as frequent \" + \n",
    "                            \"FROM exercise.ratings \" + \n",
    "                            \"Group by userId \" +\n",
    "                            \" ORDER BY frequent desc limit 5;\")\n",
    "result = engine.execute(sql_query)\n",
    "result_as_list = result.fetchall()\n",
    "for r in result_as_list:\n",
    "    print(r)"
   ]
  },
  {
   "cell_type": "markdown",
   "id": "e0db0d96",
   "metadata": {},
   "source": [
    "### Question 5) When was done first and last rate included in data set and what was the rated movie tittle?"
   ]
  },
  {
   "cell_type": "code",
   "execution_count": 25,
   "id": "520bf8f1",
   "metadata": {},
   "outputs": [
    {
     "data": {
      "text/plain": [
       "828124615"
      ]
     },
     "execution_count": 25,
     "metadata": {},
     "output_type": "execute_result"
    }
   ],
   "source": [
    "sql_query = sqlalchemy.text(\"select min(ratings.timestamp)\" +\n",
    "                            \"from exercise.ratings\")\n",
    "result = engine.execute(sql_query)\n",
    "minTime = result.fetchone()\n",
    "minTime[0]"
   ]
  },
  {
   "cell_type": "code",
   "execution_count": 26,
   "id": "274c4cde",
   "metadata": {},
   "outputs": [
    {
     "data": {
      "text/plain": [
       "1537799250"
      ]
     },
     "execution_count": 26,
     "metadata": {},
     "output_type": "execute_result"
    }
   ],
   "source": [
    "sql_query = sqlalchemy.text(\"select max(ratings.timestamp)\" +\n",
    "                            \"from exercise.ratings\")\n",
    "result = engine.execute(sql_query)\n",
    "maxTime = result.fetchone()\n",
    "maxTime[0]"
   ]
  },
  {
   "cell_type": "code",
   "execution_count": 27,
   "id": "f3016e4b",
   "metadata": {},
   "outputs": [],
   "source": [
    "def sql_GetMovieTitleWRTRatingTimestamp(timespamp):\n",
    "    return sqlalchemy.text(f\"select title \" +\n",
    "                            f\"from exercise.movies as movies \" +\n",
    "                            f\"where movies.movieId = \" +\n",
    "                            f\"(\" +\n",
    "                            f\"    select ratings.movieId \" +\n",
    "                            f\"    from exercise.ratings as ratings \" +\n",
    "                            f\"    where ratings.timestamp = \" +\n",
    "                            f\" {timespamp} \" +\n",
    "                            f\"    limit 1 \" +\n",
    "                            f\");\")"
   ]
  },
  {
   "cell_type": "code",
   "execution_count": 28,
   "id": "7f933817",
   "metadata": {},
   "outputs": [],
   "source": [
    "sql_query = sql_GetMovieTitleWRTRatingTimestamp(minTime[0])\n",
    "result = engine.execute(sql_query)\n",
    "titleMin = result.fetchone()"
   ]
  },
  {
   "cell_type": "code",
   "execution_count": 29,
   "id": "dc8a5db6",
   "metadata": {},
   "outputs": [],
   "source": [
    "sql_query = sql_GetMovieTitleWRTRatingTimestamp(maxTime[0])\n",
    "result = engine.execute(sql_query)\n",
    "titleMax = result.fetchone()"
   ]
  },
  {
   "cell_type": "code",
   "execution_count": 30,
   "id": "68b5c951",
   "metadata": {},
   "outputs": [
    {
     "name": "stdout",
     "output_type": "stream",
     "text": [
      "First movie rated Copycat (1995) 828124615\n",
      "Last movie rated Crumb (1994) 1537799250\n"
     ]
    }
   ],
   "source": [
    "print (f\"First movie rated {titleMin[0]} {minTime[0]}\")\n",
    "print (f\"Last movie rated {titleMax[0]} {maxTime[0]}\")"
   ]
  },
  {
   "cell_type": "markdown",
   "id": "88f505a8",
   "metadata": {},
   "source": [
    "### Question 6) Find all movies released in 1990\n",
    "Only place that we can receive movie release dates is in movies table's title column"
   ]
  },
  {
   "cell_type": "code",
   "execution_count": 31,
   "id": "4d91e2eb",
   "metadata": {
    "scrolled": true
   },
   "outputs": [
    {
     "data": {
      "text/plain": [
       "[('Home Alone',),\n",
       " ('Ghost',),\n",
       " ('Dances with Wolves',),\n",
       " ('Pretty Woman',),\n",
       " ('Days of Thunder',),\n",
       " ('Grifters, The',),\n",
       " ('Tie Me Up! Tie Me Down! (¡Átame!) (1',),\n",
       " ('Paris Is Burning',),\n",
       " ('Goodfellas',),\n",
       " ('Trust',),\n",
       " ('Rosencrantz and Guildenstern Are Dead',),\n",
       " (\"Miller's Crossing\",),\n",
       " ('Femme Nikita, La (Nikita)',),\n",
       " ('Pump Up the Volume',),\n",
       " ('Cyrano de Bergerac',),\n",
       " ('Amityville Curse, The',),\n",
       " ('Die Hard 2',),\n",
       " ('Young Guns II',),\n",
       " ('Marked for Death',),\n",
       " ('Hunt for Red October, The',),\n",
       " ('King of New York',),\n",
       " ('Metropolitan',),\n",
       " (\"Child's Play 2\",),\n",
       " ('Exorcist III, The',),\n",
       " ('Gremlins 2: The New Batch',),\n",
       " ('Back to the Future Part III',),\n",
       " ('Godfather: Part III, The',),\n",
       " ('Rescuers Down Under, The',),\n",
       " ('NeverEnding Story II: The Next Chapter, The',),\n",
       " ('My Blue Heaven',),\n",
       " ('Sheltering Sky, The',),\n",
       " ('Edward Scissorhands',),\n",
       " ('Tales from the Darkside: The Movie',),\n",
       " ('Heart Condition',),\n",
       " ('Rocky V',),\n",
       " ('Dick Tracy',),\n",
       " ('Arachnophobia',),\n",
       " ('Problem Child',),\n",
       " ('Total Recall',),\n",
       " ('Guardian, The',),\n",
       " ('RoboCop 2',),\n",
       " ('Bride of Re-Animator',),\n",
       " ('Repossessed',),\n",
       " ('Stanley & Iris',),\n",
       " ('Awakenings',),\n",
       " ('Come See the Paradise',),\n",
       " ('Bonfire of the Vanities',),\n",
       " ('Two Jakes, The',),\n",
       " ('Pacific Heights',),\n",
       " (\"Mo' Better Blues\",),\n",
       " ('Teenage Mutant Ninja Turtles',),\n",
       " (\"Jacob's Ladder\",),\n",
       " ('Misery',),\n",
       " ('All the Vermeers in New York',),\n",
       " ('Flatliners',),\n",
       " ('Predator 2',),\n",
       " ('Bird on a Wire',),\n",
       " ('Long Walk Home, The',),\n",
       " ('Hamlet',),\n",
       " ('Hot Spot, The',),\n",
       " ('House Party',),\n",
       " ('Air America',),\n",
       " ('Slumber Party Massacre III',),\n",
       " ('Sorority House Massacre II',),\n",
       " ('Avalon',),\n",
       " ('Mermaids',),\n",
       " ('Navy Seals',),\n",
       " ('Reversal of Fortune',),\n",
       " ('Alice',),\n",
       " ('Lord of the Flies',),\n",
       " ('Another 48 Hrs.',),\n",
       " ('Russia House, The',),\n",
       " ('Joe Versus the Volcano',),\n",
       " ('Taking Care of Business',),\n",
       " ('Three Men and a Little Lady',),\n",
       " ('Cadillac Man',),\n",
       " ('Wild Orchid',),\n",
       " ('Mountains of the Moon',),\n",
       " ('Men at Work',),\n",
       " (\"Betsy's Wedding\",),\n",
       " ('Ernest Goes to Jail',),\n",
       " ('Spaced Invaders',),\n",
       " ('Flashback',),\n",
       " (\"My Father's Glory (La gloire de mon père) (\",),\n",
       " (\"My Mother's Castle (Château de ma mère, Le) (1\",),\n",
       " ('Blue Steel',),\n",
       " ('Miami Blues',),\n",
       " ('Europa Europa (Hitlerjunge Salomon)',),\n",
       " ('Green Card',),\n",
       " (\"Akira Kurosawa's Dreams (Dreams)\",),\n",
       " ('Sibling Rivalry',),\n",
       " ('Loose Cannons',),\n",
       " ('I Love You to Death',),\n",
       " ('Tremors',),\n",
       " ('Angel at My Table, An',),\n",
       " (\"Handmaid's Tale, The\",),\n",
       " ('Rookie, The',),\n",
       " ('White Hunter, Black Heart',),\n",
       " ('Darkman',),\n",
       " ('Freshman, The',),\n",
       " ('Kindergarten Cop',),\n",
       " ('Mr. Destiny',),\n",
       " ('Presumed Innocent',),\n",
       " ('Quick Change',),\n",
       " ('Revenge',),\n",
       " ('Wild at Heart',),\n",
       " ('Witches, The',),\n",
       " ('Madhouse',),\n",
       " ('Adventures of Ford Fairlane, The',),\n",
       " ('Henry & June',),\n",
       " (\"Look Who's Talking Too\",),\n",
       " ('Twister',),\n",
       " ('Nightbreed',),\n",
       " ('Robot Jox',),\n",
       " ('Frankenstein Unbound',),\n",
       " ('Delta Force 2 (Delta Force 2: The Colombian Connection)',),\n",
       " ('Night of the Living Dead',),\n",
       " (\"Hairdresser's Husband, The (Le mari de la coiffeuse)\",),\n",
       " ('Book of Love',),\n",
       " ('Memphis Belle',),\n",
       " ('Almost an Angel',),\n",
       " ('Cry-Baby',),\n",
       " ('Bullet in the Head',),\n",
       " ('Ghost Dad',),\n",
       " ('It',),\n",
       " ('Ju Dou',),\n",
       " ('Krays, The',),\n",
       " ('Lionheart',),\n",
       " ('Nuns on the Run',),\n",
       " ('State of Grace',),\n",
       " ('Days of Being Wild (A Fei jingjyuhn)',),\n",
       " ('Begotten',),\n",
       " ('Quigley Down Under',),\n",
       " ('Captain America',),\n",
       " ('Hardware',),\n",
       " ('Match Factory Girl, The (Tulitikkutehtaan tyttö) (',),\n",
       " ('Heaven and Earth (Ten to Chi to)',),\n",
       " ('Troll 2',),\n",
       " ('Civil War, The',),\n",
       " (\"Mickey's The Prince and the Pauper\",),\n",
       " (\"Dragon Ball Z the Movie: The World's Strongest (a.k.a. Dragon Ball Z: The Strongest Guy in The World) (Doragon bôru Z: Kono yo de ichiban tsuyoi yatsu) (\",),\n",
       " ('Dragon Ball Z the Movie: The Tree of Might (Doragon bôru Z 3: Chikyû marugoto chô kessen) (19',),\n",
       " ('Dragon Ball Z: Bardock - The Father of Goku (Doragon bôru Z: Tatta hitori no saishuu kessen - Furiiza ni itonda Z senshi Kakarotto no chichi) (',),\n",
       " ('I Bought a Vampire Motorcycle',),\n",
       " ('Maniac Cop 2',),\n",
       " ('Jetsons: The Movie',),\n",
       " ('The Forbidden Dance',)]"
      ]
     },
     "execution_count": 31,
     "metadata": {},
     "output_type": "execute_result"
    }
   ],
   "source": [
    "sql_query = sqlalchemy.text(\"select trim(left(movies.title,length(movies.title) - 6)) \" +\n",
    "                            \"from exercise.movies as movies \" +\n",
    "                            \"where substring(movies.title, -6) = '(1990)' ;\")\n",
    "result = engine.execute(sql_query)\n",
    "moviesFrom1990 = result.fetchall()\n",
    "moviesFrom1990"
   ]
  }
 ],
 "metadata": {
  "kernelspec": {
   "display_name": "Python 3",
   "language": "python",
   "name": "python3"
  },
  "language_info": {
   "codemirror_mode": {
    "name": "ipython",
    "version": 3
   },
   "file_extension": ".py",
   "mimetype": "text/x-python",
   "name": "python",
   "nbconvert_exporter": "python",
   "pygments_lexer": "ipython3",
   "version": "3.8.5"
  }
 },
 "nbformat": 4,
 "nbformat_minor": 5
}
