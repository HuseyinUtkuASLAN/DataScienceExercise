{
 "cells": [
  {
   "cell_type": "markdown",
   "id": "38afb2cf",
   "metadata": {},
   "source": [
    "# Example for data science\n",
    "Purpose of this exercise is download the dataset, save it to a database and answer few questions.\n",
    "<br />\n",
    "Dataset source <link>https://files.grouplens.org/datasets/movielens/ml-latest-small.zip</link>"
   ]
  },
  {
   "cell_type": "markdown",
   "id": "bfb664a5",
   "metadata": {},
   "source": [
    "### Data preparation \n",
    "1. Download dataset\n",
    "2. Unzip dataset\n",
    "3. Load the data\n",
    "4. Save it to database"
   ]
  },
  {
   "cell_type": "markdown",
   "id": "18afc2ac",
   "metadata": {},
   "source": [
    "### Question to be answered : \n",
    "1. How many movies are in data set ?\n",
    "2. What is the most common genre of movie?\n",
    "3. What are top 10 movies with highest rate ?\n",
    "4. What are 5 most often rating users ?\n",
    "5. When was done first and last rate included in data set and what was the rated movie tittle?\n",
    "6. Find all movies released in 1990"
   ]
  },
  {
   "cell_type": "markdown",
   "id": "e3263ace",
   "metadata": {},
   "source": [
    "### Downloading dataset"
   ]
  },
  {
   "cell_type": "code",
   "execution_count": 1,
   "id": "0df7371e",
   "metadata": {},
   "outputs": [
    {
     "name": "stderr",
     "output_type": "stream",
     "text": [
      "/opt/conda/lib/python3.8/site-packages/urllib3/connectionpool.py:981: InsecureRequestWarning: Unverified HTTPS request is being made to host 'files.grouplens.org'. Adding certificate verification is strongly advised. See: https://urllib3.readthedocs.io/en/latest/advanced-usage.html#ssl-warnings\n",
      "  warnings.warn(\n"
     ]
    },
    {
     "data": {
      "text/plain": [
       "978202"
      ]
     },
     "execution_count": 1,
     "metadata": {},
     "output_type": "execute_result"
    }
   ],
   "source": [
    "import os\n",
    "import requests\n",
    "\n",
    "if os.path.exists('data') == False:\n",
    "    os.mkdir('data')\n",
    "\n",
    "url = 'https://files.grouplens.org/datasets/movielens/ml-latest-small.zip'\n",
    "r = requests.get(url, allow_redirects=True, verify=False)\n",
    "open('data/ml-latest-small.zip', 'wb').write(r.content)"
   ]
  },
  {
   "cell_type": "markdown",
   "id": "70aa01bd",
   "metadata": {},
   "source": [
    "### Unzip dataset"
   ]
  },
  {
   "cell_type": "code",
   "execution_count": 2,
   "id": "de9dd04a",
   "metadata": {},
   "outputs": [],
   "source": [
    "import zipfile\n",
    "\n",
    "with zipfile.ZipFile('data/ml-latest-small.zip', 'r') as zip_ref:\n",
    "    zip_ref.extractall('data/unzipped')"
   ]
  },
  {
   "cell_type": "markdown",
   "id": "2adab283",
   "metadata": {},
   "source": [
    "### Load the data\n",
    "While loading data, we remove NAN values to have a pure dataset"
   ]
  },
  {
   "cell_type": "code",
   "execution_count": 3,
   "id": "ceb1bd92",
   "metadata": {},
   "outputs": [],
   "source": [
    "from numpy import genfromtxt\n",
    "import numpy as np\n",
    "import csv\n",
    "\n",
    "def Load_Data(file_name):\n",
    "    with open(file_name, newline='') as f:\n",
    "        print(f)\n",
    "        reader = csv.reader(f)\n",
    "        return list(reader)\n"
   ]
  },
  {
   "cell_type": "code",
   "execution_count": 4,
   "id": "3445535f",
   "metadata": {},
   "outputs": [],
   "source": [
    "def HasEmptyCell(row):\n",
    "    for elem in row:\n",
    "        if(elem == None or elem.strip() == ''):\n",
    "            return True\n",
    "    return False"
   ]
  },
  {
   "cell_type": "markdown",
   "id": "d323f50a",
   "metadata": {},
   "source": [
    "### Save it to database"
   ]
  },
  {
   "cell_type": "code",
   "execution_count": 5,
   "id": "cb84cca4",
   "metadata": {},
   "outputs": [],
   "source": [
    "import sqlalchemy\n",
    "from sqlalchemy import create_engine\n",
    "from sqlalchemy import Column, Integer, Float, Date, Text\n",
    "from sqlalchemy.ext.declarative import declarative_base\n",
    "from sqlalchemy import create_engine\n",
    "from sqlalchemy.orm import sessionmaker\n",
    "import pymysql"
   ]
  },
  {
   "cell_type": "code",
   "execution_count": 6,
   "id": "20ef19a3",
   "metadata": {},
   "outputs": [],
   "source": [
    "Base = declarative_base()"
   ]
  },
  {
   "cell_type": "markdown",
   "id": "aee71b6a",
   "metadata": {},
   "source": [
    "#### Data models"
   ]
  },
  {
   "cell_type": "code",
   "execution_count": 7,
   "id": "8a239f79",
   "metadata": {},
   "outputs": [],
   "source": [
    "class Movies(Base):\n",
    "    __tablename__ = \"movies\"\n",
    "    __table_args__ = {'sqlite_autoincrement': True}\n",
    "    \n",
    "    id = Column(Integer, primary_key=True, nullable=False)\n",
    "    movieId = Column(Integer)\n",
    "    title = Column(Text)\n",
    "    genres = Column(Text)"
   ]
  },
  {
   "cell_type": "code",
   "execution_count": 8,
   "id": "d6d1f938",
   "metadata": {},
   "outputs": [],
   "source": [
    "class Links(Base):\n",
    "    __tablename__ = \"links\"\n",
    "    __table_args__ = {'sqlite_autoincrement': True}\n",
    "    \n",
    "    id = Column(Integer, primary_key=True, nullable=False)\n",
    "    movieId = Column(Integer)\n",
    "    imdbId = Column(Integer)\n",
    "    tmdbId = Column(Float)"
   ]
  },
  {
   "cell_type": "code",
   "execution_count": 9,
   "id": "cc25d1ba",
   "metadata": {},
   "outputs": [],
   "source": [
    "class Ratings(Base):\n",
    "    __tablename__ = \"ratings\"\n",
    "    __table_args__ = {'sqlite_autoincrement': True}\n",
    "    \n",
    "    id = Column(Integer, primary_key=True, nullable=False)\n",
    "    userId = Column(Integer)\n",
    "    movieId = Column(Integer)\n",
    "    rating = Column(Float)\n",
    "    timestamp = Column(Integer)"
   ]
  },
  {
   "cell_type": "code",
   "execution_count": 10,
   "id": "cceba4bc",
   "metadata": {},
   "outputs": [],
   "source": [
    "class Tags(Base):\n",
    "    __tablename__ = \"tags\"\n",
    "    __table_args__ = {'sqlite_autoincrement': True}\n",
    "    \n",
    "    id = Column(Integer, primary_key=True, nullable=False)\n",
    "    userId = Column(Integer)\n",
    "    movieId = Column(Integer)\n",
    "    tag = Column(Text)\n",
    "    timestamp = Column(Integer)"
   ]
  },
  {
   "cell_type": "markdown",
   "id": "c59eabf4",
   "metadata": {},
   "source": [
    "#### Lets create database if not exists"
   ]
  },
  {
   "cell_type": "code",
   "execution_count": 11,
   "id": "42f49e77",
   "metadata": {},
   "outputs": [],
   "source": [
    "userName = \"root\"\n",
    "password = \"password\"\n",
    "ip = \"mysql\"\n",
    "port = \"3306\"\n",
    "\n",
    "engine = create_engine(f'mysql+pymysql://{userName}:{password}@{ip}:{port}')"
   ]
  },
  {
   "cell_type": "code",
   "execution_count": 12,
   "id": "40df94c2",
   "metadata": {},
   "outputs": [],
   "source": [
    "dbName = \"exercise\"\n",
    "engine.execute(f\"CREATE DATABASE IF NOT EXISTS {dbName};\")\n",
    "engine = create_engine(f'mysql+pymysql://{userName}:{password}@{ip}:{port}/{dbName}') # engine recreated for simplycity"
   ]
  },
  {
   "cell_type": "markdown",
   "id": "4c82cbe8",
   "metadata": {},
   "source": [
    "#### Initialize the models and create a session"
   ]
  },
  {
   "cell_type": "code",
   "execution_count": 13,
   "id": "74c3c284",
   "metadata": {},
   "outputs": [],
   "source": [
    "Base.metadata.create_all(engine)\n",
    "\n",
    "session = sessionmaker()\n",
    "session.configure(bind=engine)\n",
    "s = session()"
   ]
  },
  {
   "cell_type": "markdown",
   "id": "b64e089b",
   "metadata": {},
   "source": [
    "#### Clean tables for the getting same data for each fresh run"
   ]
  },
  {
   "cell_type": "code",
   "execution_count": 14,
   "id": "6349c0d9",
   "metadata": {},
   "outputs": [],
   "source": [
    "s.query(Movies).delete()\n",
    "s.query(Links).delete()\n",
    "s.query(Ratings).delete()\n",
    "s.query(Tags).delete()\n",
    "s.commit()"
   ]
  },
  {
   "cell_type": "markdown",
   "id": "97c80678",
   "metadata": {},
   "source": [
    "#### NOTE: We do not include rows with empty values to have cleaner results"
   ]
  },
  {
   "cell_type": "code",
   "execution_count": null,
   "id": "4c05acfe",
   "metadata": {},
   "outputs": [
    {
     "name": "stdout",
     "output_type": "stream",
     "text": [
      "<_io.TextIOWrapper name='data/unzipped/ml-latest-small/movies.csv' mode='r' encoding='UTF-8'>\n"
     ]
    }
   ],
   "source": [
    "for m in Load_Data('data/unzipped/ml-latest-small/movies.csv')[1:] :\n",
    "    if (HasEmptyCell(m) == False):\n",
    "        movie = Movies(**{\n",
    "            'movieId' : m[0],\n",
    "            'title' : m[1],\n",
    "            'genres' : m[2],\n",
    "        })\n",
    "        s.add(movie)\n",
    "s.commit()"
   ]
  },
  {
   "cell_type": "code",
   "execution_count": null,
   "id": "43bffc0a",
   "metadata": {},
   "outputs": [],
   "source": [
    "for m in Load_Data('data/unzipped/ml-latest-small/links.csv')[1:] :\n",
    "    if (HasEmptyCell(m) == False):\n",
    "        link = Links(**{\n",
    "            'movieId' : m[0],\n",
    "            'imdbId' : m[1],\n",
    "            'tmdbId' : m[2],\n",
    "        })\n",
    "        s.add(link)\n",
    "s.commit()"
   ]
  },
  {
   "cell_type": "code",
   "execution_count": null,
   "id": "39149b68",
   "metadata": {},
   "outputs": [],
   "source": [
    "for m in Load_Data('data/unzipped/ml-latest-small/ratings.csv')[1:] :\n",
    "    if (HasEmptyCell(m) == False):\n",
    "        rating = Ratings(**{\n",
    "            'userId' : m[0],\n",
    "            'movieId' : m[1],\n",
    "            'rating' : m[2],\n",
    "            'timestamp' : m[3],\n",
    "        })\n",
    "        s.add(rating)\n",
    "s.commit()"
   ]
  },
  {
   "cell_type": "code",
   "execution_count": null,
   "id": "98ea4796",
   "metadata": {},
   "outputs": [],
   "source": [
    "for m in Load_Data('data/unzipped/ml-latest-small/tags.csv')[1:] :\n",
    "    if (HasEmptyCell(m) == False):\n",
    "        tag = Tags(**{\n",
    "            'userId' : m[0],\n",
    "            'movieId' : m[1],\n",
    "            'tag' : m[2],\n",
    "            'timestamp' : m[3],\n",
    "        })\n",
    "        s.add(tag)\n",
    "s.commit()"
   ]
  },
  {
   "cell_type": "markdown",
   "id": "96da6a87",
   "metadata": {},
   "source": [
    "## Questions and Answers"
   ]
  },
  {
   "cell_type": "markdown",
   "id": "862bc390",
   "metadata": {},
   "source": [
    "### Question 1) How many movies are in data set ?"
   ]
  },
  {
   "cell_type": "code",
   "execution_count": null,
   "id": "d3a39f78",
   "metadata": {},
   "outputs": [],
   "source": [
    "sql_query = sqlalchemy.text(\"SELECT count(distinct( movies.title)) FROM exercise.movies as movies;\")\n",
    "result = engine.execute(sql_query)\n",
    "numberOfDistinctMovieTitles = result.fetchone()[0]\n",
    "print(f'Number of distinct movie titles is {numberOfDistinctMovieTitles}')"
   ]
  },
  {
   "cell_type": "markdown",
   "id": "115dc0e7",
   "metadata": {},
   "source": [
    "### Question 2) What is the most common genre of movie?"
   ]
  },
  {
   "cell_type": "code",
   "execution_count": null,
   "id": "dc6f69f0",
   "metadata": {},
   "outputs": [],
   "source": [
    "sql_query = sqlalchemy.text(\"SELECT movies.genres FROM exercise.movies as movies;\")\n",
    "result = engine.execute(sql_query)\n",
    "result_as_list = result.fetchall()\n",
    "result_as_list[:10]"
   ]
  },
  {
   "cell_type": "markdown",
   "id": "35648a4f",
   "metadata": {},
   "source": [
    "<br />\n",
    "MySql does not support a straight forward function to split each string into different raws. So we take all the genres in the table and split them in memory using python's \"split\" function.\n",
    "<br />"
   ]
  },
  {
   "cell_type": "code",
   "execution_count": null,
   "id": "48b69cec",
   "metadata": {},
   "outputs": [],
   "source": [
    "counter = {}\n",
    "for genreRaw in result_as_list:\n",
    "    for g in genreRaw[0].split(\"|\"):\n",
    "        if g not in counter:\n",
    "            counter[g] = 1\n",
    "        else:\n",
    "            counter[g] += 1\n",
    "counter"
   ]
  },
  {
   "cell_type": "code",
   "execution_count": null,
   "id": "3648854f",
   "metadata": {},
   "outputs": [],
   "source": [
    "import operator\n",
    "\n",
    "mostCommonGenre = max(counter.items(), key=operator.itemgetter(1))[0]\n",
    "\n",
    "print(f'Most common genre is {mostCommonGenre}')"
   ]
  },
  {
   "cell_type": "markdown",
   "id": "7da4d15e",
   "metadata": {},
   "source": [
    "### Question 3) What are top 10 movies with highest rate ?"
   ]
  },
  {
   "cell_type": "code",
   "execution_count": null,
   "id": "210f7544",
   "metadata": {},
   "outputs": [],
   "source": [
    "sql_query = sqlalchemy.text(\"SELECT movies.title \" + \n",
    "                            \"FROM exercise.movies as movies \" +\n",
    "                            \"join exercise.ratings as ratings On movies.movieId = ratings.movieId \" + \n",
    "                            \"Group by movies.title \" + \n",
    "                            \"ORDER BY AVG(ratings.rating) desc LIMIT 10;\")\n",
    "result = engine.execute(sql_query)\n",
    "result_as_list = result.fetchall()\n",
    "for r in result_as_list:\n",
    "    print(r[0])"
   ]
  },
  {
   "cell_type": "markdown",
   "id": "7b2fad6f",
   "metadata": {},
   "source": [
    "### Question 4) What are 5 most often rating users ?\n",
    "'Most often' is a hard question to answer but \"most\" is simple."
   ]
  },
  {
   "cell_type": "code",
   "execution_count": null,
   "id": "efe024c2",
   "metadata": {},
   "outputs": [],
   "source": [
    "sql_query = sqlalchemy.text(\"SELECT userId, count(*) as frequent \" + \n",
    "                            \"FROM exercise.ratings \" + \n",
    "                            \"Group by userId \" +\n",
    "                            \" ORDER BY frequent desc limit 5;\")\n",
    "result = engine.execute(sql_query)\n",
    "result_as_list = result.fetchall()\n",
    "for r in result_as_list:\n",
    "    print(r)"
   ]
  },
  {
   "cell_type": "markdown",
   "id": "e0db0d96",
   "metadata": {},
   "source": [
    "### Question 5) When was done first and last rate included in data set and what was the rated movie tittle?"
   ]
  },
  {
   "cell_type": "code",
   "execution_count": null,
   "id": "71e8bbe8",
   "metadata": {},
   "outputs": [],
   "source": [
    "sql_query = sqlalchemy.text(\"select min(ratings.timestamp)\" +\n",
    "                            \"from exercise.ratings\")\n",
    "result = engine.execute(sql_query)\n",
    "minTime = result.fetchone()\n",
    "minTime[0]"
   ]
  },
  {
   "cell_type": "code",
   "execution_count": null,
   "id": "14bec62c",
   "metadata": {},
   "outputs": [],
   "source": [
    "sql_query = sqlalchemy.text(\"select max(ratings.timestamp)\" +\n",
    "                            \"from exercise.ratings\")\n",
    "result = engine.execute(sql_query)\n",
    "maxTime = result.fetchone()\n",
    "maxTime[0]"
   ]
  },
  {
   "cell_type": "code",
   "execution_count": null,
   "id": "71799f7f",
   "metadata": {},
   "outputs": [],
   "source": [
    "def sql_GetMovieTitleWRTRatingTimestamp(timespamp):\n",
    "    return sqlalchemy.text(f\"select title \" +\n",
    "                            f\"from exercise.movies as movies \" +\n",
    "                            f\"where movies.movieId = \" +\n",
    "                            f\"(\" +\n",
    "                            f\"    select ratings.movieId \" +\n",
    "                            f\"    from exercise.ratings as ratings \" +\n",
    "                            f\"    where ratings.timestamp = \" +\n",
    "                            f\" {timespamp} \" +\n",
    "                            f\"    limit 1 \" +\n",
    "                            f\");\")"
   ]
  },
  {
   "cell_type": "code",
   "execution_count": null,
   "id": "82fa7047",
   "metadata": {},
   "outputs": [],
   "source": [
    "sql_query = sql_GetMovieTitleWRTRatingTimestamp(minTime[0])\n",
    "result = engine.execute(sql_query)\n",
    "titleMin = result.fetchone()"
   ]
  },
  {
   "cell_type": "code",
   "execution_count": null,
   "id": "c63d0b33",
   "metadata": {},
   "outputs": [],
   "source": [
    "sql_query = sql_GetMovieTitleWRTRatingTimestamp(maxTime[0])\n",
    "result = engine.execute(sql_query)\n",
    "titleMax = result.fetchone()"
   ]
  },
  {
   "cell_type": "code",
   "execution_count": null,
   "id": "c61e52d1",
   "metadata": {},
   "outputs": [],
   "source": [
    "print (f\"First movie rated {titleMin[0]} {minTime[0]}\")\n",
    "print (f\"Last movie rated {titleMax[0]} {maxTime[0]}\")"
   ]
  },
  {
   "cell_type": "markdown",
   "id": "88f505a8",
   "metadata": {},
   "source": [
    "### Question 6) Find all movies released in 1990\n",
    "Only place that we can receive movie release dates is in movies table's title column"
   ]
  },
  {
   "cell_type": "code",
   "execution_count": null,
   "id": "4d91e2eb",
   "metadata": {
    "scrolled": true
   },
   "outputs": [],
   "source": [
    "sql_query = sqlalchemy.text(\"select trim(left(movies.title,length(movies.title) - 6)) \" +\n",
    "                            \"from exercise.movies as movies \" +\n",
    "                            \"where substring(movies.title, -6) = '(1990)' ;\")\n",
    "result = engine.execute(sql_query)\n",
    "moviesFrom1990 = result.fetchall()\n",
    "moviesFrom1990"
   ]
  }
 ],
 "metadata": {
  "kernelspec": {
   "display_name": "Python 3",
   "language": "python",
   "name": "python3"
  },
  "language_info": {
   "codemirror_mode": {
    "name": "ipython",
    "version": 3
   },
   "file_extension": ".py",
   "mimetype": "text/x-python",
   "name": "python",
   "nbconvert_exporter": "python",
   "pygments_lexer": "ipython3",
   "version": "3.8.5"
  }
 },
 "nbformat": 4,
 "nbformat_minor": 5
}
